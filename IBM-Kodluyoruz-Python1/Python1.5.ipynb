{
 "cells": [
  {
   "cell_type": "markdown",
   "metadata": {},
   "source": [
    "# Döngüler"
   ]
  },
  {
   "cell_type": "markdown",
   "metadata": {},
   "source": [
    "* 1---İF"
   ]
  },
  {
   "cell_type": "code",
   "execution_count": 3,
   "metadata": {},
   "outputs": [
    {
     "name": "stdout",
     "output_type": "stream",
     "text": [
      "sayınız çift sayıdır\n",
      "program sonlandırıldı\n"
     ]
    }
   ],
   "source": [
    "x = int(input(\"bir sayı giriniz:\"))\n",
    "\n",
    "if x % 2 ==0:\n",
    "    print(\"sayınız çift sayıdır\")\n",
    "    \n",
    "print(\"program sonlandırıldı\")    "
   ]
  },
  {
   "cell_type": "markdown",
   "metadata": {},
   "source": [
    "* 2---ELSE"
   ]
  },
  {
   "cell_type": "code",
   "execution_count": 4,
   "metadata": {},
   "outputs": [
    {
     "name": "stdout",
     "output_type": "stream",
     "text": [
      "sayınız tek sayıdır\n",
      "program sonlandırıldı\n"
     ]
    }
   ],
   "source": [
    "x = int(input(\"bir sayı giriniz:\"))\n",
    "\n",
    "if x % 2 ==0:\n",
    "    print(\"sayınız çift sayıdır\")\n",
    "\n",
    "else:\n",
    "    print(\"sayınız tek sayıdır\") # örneğin 1 girdim\n",
    "\n",
    "    \n",
    "print(\"program sonlandırıldı\") "
   ]
  },
  {
   "cell_type": "markdown",
   "metadata": {},
   "source": [
    "* 3----ELİF"
   ]
  },
  {
   "cell_type": "code",
   "execution_count": 9,
   "metadata": {},
   "outputs": [
    {
     "name": "stdout",
     "output_type": "stream",
     "text": [
      "sayınız 10'a eşittir\n",
      "program sonlandırıldı\n"
     ]
    }
   ],
   "source": [
    "x = int(input(\"bir sayı giriniz:\"))\n",
    "\n",
    "if x < 10:\n",
    "    print(\"sayınız 10 dan küçüktür \")\n",
    "\n",
    "elif x == 10:\n",
    "    print(\"sayınız 10'a eşittir\")    \n",
    "\n",
    "else:\n",
    "    print(\"sayınız 10 dan büyüktürr\") # örneğin 1 girdim\n",
    "\n",
    "    \n",
    "print(\"program sonlandırıldı\") "
   ]
  },
  {
   "cell_type": "markdown",
   "metadata": {},
   "source": [
    "* 4-----NESTED İF(iç içe döngü)"
   ]
  },
  {
   "cell_type": "code",
   "execution_count": 11,
   "metadata": {},
   "outputs": [
    {
     "name": "stdout",
     "output_type": "stream",
     "text": [
      "sayınız hem 2 hem de 3 e bölünür\n",
      "program sonlandırıldı\n"
     ]
    }
   ],
   "source": [
    "x = int(input(\"bir sayı giriniz:\"))\n",
    "\n",
    "if x % 2 ==0:\n",
    "    if x % 3 ==0:\n",
    "        print(\"sayınız hem 2 hem de 3 e bölünür\") # örneğin 6 girdim\n",
    "   \n",
    "\n",
    "else:\n",
    "    print(\"sayınız tek sayıdır\") # örneğin 1 girdim\n",
    "\n",
    "    \n",
    "print(\"program sonlandırıldı\") "
   ]
  },
  {
   "cell_type": "code",
   "execution_count": 13,
   "metadata": {},
   "outputs": [
    {
     "name": "stdout",
     "output_type": "stream",
     "text": [
      "sayınız hem 2 hem de 3 e bölünür\n",
      "program sonlandırıldı\n"
     ]
    }
   ],
   "source": [
    "x = int(input(\"bir sayı giriniz:\"))\n",
    "\n",
    "if x % 2 ==0 and x % 3 ==0:\n",
    "        print(\"sayınız hem 2 hem de 3 e bölünür\") # örneğin 6 girdim\n",
    "\n",
    "\n",
    "else:\n",
    "    print(\"sayınız tek sayıdır\") # örneğin 1 girdim\n",
    "\n",
    "    \n",
    "print(\"program sonlandırıldı\") "
   ]
  }
 ],
 "metadata": {
  "kernelspec": {
   "display_name": "Python 3",
   "language": "python",
   "name": "python3"
  },
  "language_info": {
   "codemirror_mode": {
    "name": "ipython",
    "version": 3
   },
   "file_extension": ".py",
   "mimetype": "text/x-python",
   "name": "python",
   "nbconvert_exporter": "python",
   "pygments_lexer": "ipython3",
   "version": "3.11.2"
  }
 },
 "nbformat": 4,
 "nbformat_minor": 2
}
