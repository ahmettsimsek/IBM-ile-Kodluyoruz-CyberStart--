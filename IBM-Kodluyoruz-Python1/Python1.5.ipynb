{
 "cells": [
  {
   "cell_type": "markdown",
   "metadata": {},
   "source": [
    "# Döngüler"
   ]
  },
  {
   "cell_type": "markdown",
   "metadata": {},
   "source": [
    "amacımız programımızı dllandırmak. bir şeyi defalarca yapmak istediğimzde bu yapı kullanıcılcak"
   ]
  },
  {
   "cell_type": "markdown",
   "metadata": {},
   "source": [
    "* 1---İF"
   ]
  },
  {
   "cell_type": "code",
   "execution_count": 3,
   "metadata": {},
   "outputs": [
    {
     "name": "stdout",
     "output_type": "stream",
     "text": [
      "sayınız çift sayıdır\n",
      "program sonlandırıldı\n"
     ]
    }
   ],
   "source": [
    "x = int(input(\"bir sayı giriniz:\"))\n",
    "\n",
    "if x % 2 ==0:\n",
    "    print(\"sayınız çift sayıdır\")\n",
    "    \n",
    "print(\"program sonlandırıldı\")    "
   ]
  },
  {
   "cell_type": "markdown",
   "metadata": {},
   "source": [
    "* 2---ELSE"
   ]
  },
  {
   "cell_type": "code",
   "execution_count": 4,
   "metadata": {},
   "outputs": [
    {
     "name": "stdout",
     "output_type": "stream",
     "text": [
      "sayınız tek sayıdır\n",
      "program sonlandırıldı\n"
     ]
    }
   ],
   "source": [
    "x = int(input(\"bir sayı giriniz:\"))\n",
    "\n",
    "if x % 2 ==0:\n",
    "    print(\"sayınız çift sayıdır\")\n",
    "\n",
    "else:\n",
    "    print(\"sayınız tek sayıdır\") # örneğin 1 girdim\n",
    "\n",
    "    \n",
    "print(\"program sonlandırıldı\") "
   ]
  },
  {
   "cell_type": "markdown",
   "metadata": {},
   "source": [
    "* 3----ELİF"
   ]
  },
  {
   "cell_type": "code",
   "execution_count": 9,
   "metadata": {},
   "outputs": [
    {
     "name": "stdout",
     "output_type": "stream",
     "text": [
      "sayınız 10'a eşittir\n",
      "program sonlandırıldı\n"
     ]
    }
   ],
   "source": [
    "x = int(input(\"bir sayı giriniz:\"))\n",
    "\n",
    "if x < 10:\n",
    "    print(\"sayınız 10 dan küçüktür \")\n",
    "\n",
    "elif x == 10:\n",
    "    print(\"sayınız 10'a eşittir\")    \n",
    "\n",
    "else:\n",
    "    print(\"sayınız 10 dan büyüktürr\") # örneğin 1 girdim\n",
    "\n",
    "    \n",
    "print(\"program sonlandırıldı\") "
   ]
  },
  {
   "cell_type": "markdown",
   "metadata": {},
   "source": [
    "* 4-----NESTED İF(iç içe döngü)"
   ]
  },
  {
   "cell_type": "code",
   "execution_count": 11,
   "metadata": {},
   "outputs": [
    {
     "name": "stdout",
     "output_type": "stream",
     "text": [
      "sayınız hem 2 hem de 3 e bölünür\n",
      "program sonlandırıldı\n"
     ]
    }
   ],
   "source": [
    "x = int(input(\"bir sayı giriniz:\"))\n",
    "\n",
    "if x % 2 ==0:\n",
    "    if x % 3 ==0:\n",
    "        print(\"sayınız hem 2 hem de 3 e bölünür\") # örneğin 6 girdim\n",
    "   \n",
    "\n",
    "else:\n",
    "    print(\"sayınız tek sayıdır\") # örneğin 1 girdim\n",
    "\n",
    "    \n",
    "print(\"program sonlandırıldı\") "
   ]
  },
  {
   "cell_type": "code",
   "execution_count": 13,
   "metadata": {},
   "outputs": [
    {
     "name": "stdout",
     "output_type": "stream",
     "text": [
      "sayınız hem 2 hem de 3 e bölünür\n",
      "program sonlandırıldı\n"
     ]
    }
   ],
   "source": [
    "x = int(input(\"bir sayı giriniz:\"))\n",
    "\n",
    "if x % 2 ==0 and x % 3 ==0:\n",
    "        print(\"sayınız hem 2 hem de 3 e bölünür\") # örneğin 6 girdim\n",
    "\n",
    "\n",
    "else:\n",
    "    print(\"sayınız tek sayıdır\") # örneğin 1 girdim\n",
    "\n",
    "    \n",
    "print(\"program sonlandırıldı\") "
   ]
  },
  {
   "cell_type": "markdown",
   "metadata": {},
   "source": [
    "-----------------------------------------"
   ]
  },
  {
   "cell_type": "markdown",
   "metadata": {},
   "source": [
    "* Ternary Conditionals"
   ]
  },
  {
   "cell_type": "markdown",
   "metadata": {},
   "source": [
    "if-else mantığını tek satırda döndürme yeteneğimize denir."
   ]
  },
  {
   "cell_type": "code",
   "execution_count": 3,
   "metadata": {},
   "outputs": [
    {
     "name": "stdout",
     "output_type": "stream",
     "text": [
      "2\n"
     ]
    }
   ],
   "source": [
    "cevap = input(\"x 2'e eşit olsun mu? y/n\")\n",
    "\n",
    "x = 2 if cevap == \"y\" else 0\n",
    "\n",
    "print(x)"
   ]
  },
  {
   "cell_type": "markdown",
   "metadata": {},
   "source": [
    "----------------------------------"
   ]
  },
  {
   "cell_type": "markdown",
   "metadata": {},
   "source": [
    "* While Döngüsü"
   ]
  },
  {
   "cell_type": "code",
   "execution_count": 6,
   "metadata": {},
   "outputs": [
    {
     "name": "stdout",
     "output_type": "stream",
     "text": [
      "sayınız pozitif:  2\n"
     ]
    }
   ],
   "source": [
    "x = int(input(\"bir sayı giriniz\"))\n",
    "\n",
    "while x < 0:\n",
    "    print(\"sayı negatif lütfen pozitif bir sayı giriniz:  \") #eğer  sayı girersen döngü içine girip bidaha sayı girmei istiycek\n",
    "    x = int(input(\"bir sayı giriniz:\"))\n",
    "\n",
    "print(\"sayınız pozitif: \", x)    "
   ]
  },
  {
   "cell_type": "code",
   "execution_count": 7,
   "metadata": {},
   "outputs": [
    {
     "name": "stdout",
     "output_type": "stream",
     "text": [
      "0\n",
      "1\n",
      "2\n"
     ]
    }
   ],
   "source": [
    "x = 0\n",
    "\n",
    "while x < 3:\n",
    "    print(x)\n",
    "    x = x+1"
   ]
  },
  {
   "cell_type": "code",
   "execution_count": 12,
   "metadata": {},
   "outputs": [
    {
     "name": "stdout",
     "output_type": "stream",
     "text": [
      "0\n",
      "1\n",
      "3\n",
      "6\n",
      "10\n",
      "15\n",
      "21\n",
      "28\n",
      "36\n",
      "45\n",
      "55\n",
      "66\n",
      "78\n",
      "91\n",
      "105\n",
      "120\n",
      "136\n",
      "153\n",
      "171\n",
      "190\n",
      "210\n",
      "231\n",
      "253\n",
      "276\n",
      "300\n",
      "325\n",
      "351\n",
      "378\n",
      "406\n",
      "435\n",
      "465\n",
      "496\n",
      "528\n",
      "561\n",
      "595\n",
      "630\n",
      "666\n",
      "703\n",
      "741\n",
      "780\n",
      "820\n",
      "861\n",
      "903\n",
      "946\n",
      "990\n",
      "1035\n",
      "1081\n",
      "1128\n",
      "1176\n",
      "1225\n",
      "1275\n",
      "1326\n",
      "1378\n",
      "1431\n",
      "1485\n",
      "1540\n",
      "1596\n",
      "1653\n",
      "1711\n",
      "1770\n",
      "1830\n",
      "1891\n",
      "1953\n",
      "2016\n",
      "2080\n",
      "2145\n",
      "2211\n",
      "2278\n",
      "2346\n",
      "2415\n",
      "2485\n",
      "2556\n",
      "2628\n",
      "2701\n",
      "2775\n",
      "2850\n",
      "2926\n",
      "3003\n",
      "3081\n",
      "3160\n",
      "3240\n",
      "3321\n",
      "3403\n",
      "3486\n",
      "3570\n",
      "3655\n",
      "3741\n",
      "3828\n",
      "3916\n",
      "4005\n",
      "4095\n",
      "4186\n",
      "4278\n",
      "4371\n",
      "4465\n",
      "4560\n",
      "4656\n",
      "4753\n",
      "4851\n",
      "4950\n"
     ]
    }
   ],
   "source": [
    "# diyelim ki 0 dan 100 e kadar sayıların toplamını bulmak istiyorum\n",
    "\n",
    "x =0\n",
    "toplam = 0\n",
    "\n",
    "while x < 100:\n",
    "    toplam = toplam +x \n",
    "    print(toplam)\n",
    "\n",
    "    x = x+ 1"
   ]
  },
  {
   "cell_type": "markdown",
   "metadata": {},
   "source": [
    "--------------------------------------"
   ]
  },
  {
   "cell_type": "markdown",
   "metadata": {},
   "source": [
    "* For döngüsü"
   ]
  },
  {
   "cell_type": "markdown",
   "metadata": {},
   "source": [
    "for -- değişken -- in -- obje -- (ile yazılır)"
   ]
  },
  {
   "cell_type": "markdown",
   "metadata": {},
   "source": [
    "bir şey uyduğu sürece devam etsin, başı ve sonu bilinen belirli bir koşul için daha çok kullanılır. "
   ]
  },
  {
   "cell_type": "code",
   "execution_count": 13,
   "metadata": {},
   "outputs": [
    {
     "name": "stdout",
     "output_type": "stream",
     "text": [
      "h\n",
      "e\n",
      "y\n"
     ]
    }
   ],
   "source": [
    "for c in \"hey\": # diyoruz ki 3 kere iterasyon olucak çünkü 3 elemanı var, 1. iterasyon -h, 2. iterasyon -e, 3. iterasyon -y\n",
    "    print(c)"
   ]
  },
  {
   "cell_type": "markdown",
   "metadata": {},
   "source": [
    "range(101) demek 0 dan 100 e kadar iterayon yapmam için sağlıyor"
   ]
  },
  {
   "cell_type": "code",
   "execution_count": 19,
   "metadata": {},
   "outputs": [
    {
     "name": "stdout",
     "output_type": "stream",
     "text": [
      "5050\n"
     ]
    }
   ],
   "source": [
    "toplam =  0\n",
    "\n",
    "for x in range(101):\n",
    "    toplam = toplam + x\n",
    "\n",
    "\n",
    "print(toplam)    "
   ]
  },
  {
   "cell_type": "code",
   "execution_count": 20,
   "metadata": {},
   "outputs": [
    {
     "ename": "TypeError",
     "evalue": "'int' object is not iterable",
     "output_type": "error",
     "traceback": [
      "\u001b[1;31m---------------------------------------------------------------------------\u001b[0m",
      "\u001b[1;31mTypeError\u001b[0m                                 Traceback (most recent call last)",
      "Cell \u001b[1;32mIn[20], line 1\u001b[0m\n\u001b[1;32m----> 1\u001b[0m \u001b[38;5;28;01mfor\u001b[39;00m x \u001b[38;5;129;01min\u001b[39;00m \u001b[38;5;241m5\u001b[39m:\n\u001b[0;32m      2\u001b[0m     \u001b[38;5;28mprint\u001b[39m(x)\n",
      "\u001b[1;31mTypeError\u001b[0m: 'int' object is not iterable"
     ]
    }
   ],
   "source": [
    "for x in 5: #eğer böyle 5 veririsen hata alırsın, range(5) ile kulllanman gerekiyor\n",
    "    print(x)"
   ]
  },
  {
   "cell_type": "code",
   "execution_count": 21,
   "metadata": {},
   "outputs": [
    {
     "name": "stdout",
     "output_type": "stream",
     "text": [
      "0\n",
      "1\n",
      "2\n",
      "3\n",
      "4\n"
     ]
    }
   ],
   "source": [
    "for x in range(5): #doğru kullanımı\n",
    "    print(x)"
   ]
  },
  {
   "cell_type": "markdown",
   "metadata": {},
   "source": [
    "-----------------------"
   ]
  },
  {
   "cell_type": "markdown",
   "metadata": {},
   "source": [
    "for ve whilenin farkı ne:\n",
    "- while yapısında kaç kere iterasyon yapacağımızı bilmiyoruz\n",
    "- for da eleman sayısı kadar iterasyon var (continue veya break ile bölünmezse)"
   ]
  },
  {
   "cell_type": "markdown",
   "metadata": {},
   "source": [
    "--------------------------------"
   ]
  },
  {
   "cell_type": "markdown",
   "metadata": {},
   "source": [
    "* Break komutu"
   ]
  },
  {
   "cell_type": "markdown",
   "metadata": {},
   "source": [
    "şart sağlandığında döngüyü ani sonlandırmak için"
   ]
  },
  {
   "cell_type": "code",
   "execution_count": 22,
   "metadata": {},
   "outputs": [
    {
     "name": "stdout",
     "output_type": "stream",
     "text": [
      "0\n",
      "1\n",
      "2\n"
     ]
    }
   ],
   "source": [
    "for c in range(10):\n",
    "    if c == 3:\n",
    "        break\n",
    "    print(c)"
   ]
  },
  {
   "cell_type": "code",
   "execution_count": 26,
   "metadata": {},
   "outputs": [
    {
     "name": "stdout",
     "output_type": "stream",
     "text": [
      "0\n",
      "1\n",
      "2\n"
     ]
    }
   ],
   "source": [
    "c = 0\n",
    "\n",
    "while c < 10:\n",
    "    print(c)\n",
    "    c = c +1\n",
    "\n",
    "\n",
    "    if c == 3:\n",
    "        break\n",
    "    \n",
    "    "
   ]
  },
  {
   "cell_type": "markdown",
   "metadata": {},
   "source": [
    "------------------------------"
   ]
  },
  {
   "cell_type": "markdown",
   "metadata": {},
   "source": [
    "* Continue komutu"
   ]
  },
  {
   "cell_type": "markdown",
   "metadata": {},
   "source": [
    "bazen iterasyonlarda biri sağlandığında atlayıp bir sonrakinden başlamak isteyebilirim"
   ]
  },
  {
   "cell_type": "code",
   "execution_count": 28,
   "metadata": {},
   "outputs": [
    {
     "name": "stdout",
     "output_type": "stream",
     "text": [
      "0\n",
      "1\n",
      "2\n",
      "4\n",
      "5\n",
      "6\n",
      "7\n",
      "8\n",
      "9\n"
     ]
    }
   ],
   "source": [
    "for a in range(10):\n",
    "    if a == 3:\n",
    "        continue # 3'e geldiğinde atlamış\n",
    "    print(a)"
   ]
  },
  {
   "cell_type": "code",
   "execution_count": 35,
   "metadata": {},
   "outputs": [
    {
     "name": "stdout",
     "output_type": "stream",
     "text": [
      "1\n",
      "2\n",
      "4\n",
      "5\n",
      "6\n",
      "7\n",
      "8\n",
      "9\n",
      "10\n"
     ]
    }
   ],
   "source": [
    "m = 0\n",
    "\n",
    "while m < 10:\n",
    "    m +=1\n",
    "    if m == 3:\n",
    "        continue\n",
    "    print(m)\n",
    "    \n",
    "     \n",
    "   \n",
    "   \n",
    "\n",
    "   \n",
    "   "
   ]
  }
 ],
 "metadata": {
  "kernelspec": {
   "display_name": "Python 3",
   "language": "python",
   "name": "python3"
  },
  "language_info": {
   "codemirror_mode": {
    "name": "ipython",
    "version": 3
   },
   "file_extension": ".py",
   "mimetype": "text/x-python",
   "name": "python",
   "nbconvert_exporter": "python",
   "pygments_lexer": "ipython3",
   "version": "3.11.2"
  }
 },
 "nbformat": 4,
 "nbformat_minor": 2
}
